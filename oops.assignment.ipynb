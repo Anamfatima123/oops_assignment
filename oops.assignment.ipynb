{
 "cells": [
  {
   "cell_type": "markdown",
   "id": "95027171",
   "metadata": {},
   "source": [
    "1. What is Object-Oriented Programming (OOP)?\n",
    "\n",
    "ans- As the name suggests, Object-Oriented Programming or OOPs refers to languages that use objects in programming. Object-oriented programming aims to implement real-world entities like inheritance, hiding, polymorphism, etc in programming. The main aim of OOP is to bind together the data and the functions that operate on them so that no other part of the code can access this data except that function.\n",
    "\n",
    "\n",
    "2. What is a class in OOP?\n",
    "\n",
    "ans- A class is a user-defined data type. It consists of data members and member functions, which can be accessed and used by creating an instance of that class. It represents the set of properties or methods that are common to all objects of one type. A class is like a blueprint for an object.  \n",
    "\n",
    "\n",
    "3. What is an object in OOP?\n",
    "\n",
    "ans- It is a basic unit of Object-Oriented Programming and represents the real-life entities. An Object is an instance of a Class. When a class is defined, no memory is allocated but when it is instantiated (i.e. an object is created) memory is allocated. An object has an identity, state, and behavior. Each object contains data and code to manipulate the data. Objects can interact without having to know details of each other’s data or code, it is sufficient to know the type of message accepted and type of response returned by the objects. \n",
    "\n",
    "\n",
    "4. What is the difference between abstraction and encapsulation?\n",
    "\n",
    "ans- a.Abstraction\n",
    "Abstraction is the process of hiding unnecessary details and showing only the essential features of an object. It helps reduce complexity by focusing on what an object does rather than how it does it.\n",
    "\n",
    "1. It allows the programmer to focus on the functionality without worrying about the internal implementation.\n",
    "\n",
    "2. Achieved using abstract classes or interfaces.\n",
    "\n",
    "Example: When you use a mobile phone, you interact with the screen and buttons without knowing the internal circuits.\n",
    "\n",
    "b. Encapsulation\n",
    "Encapsulation is the process of binding data and the methods that operate on that data into a single unit, usually a class. It also involves restricting direct access to some of the object's components, which helps in protecting the data from unwanted changes.\n",
    "\n",
    "1. It is used to achieve data hiding.\n",
    "\n",
    "2. Achieved by declaring variables as private or protected and providing public methods (getters/setters) to access or modify them.\n",
    "\n",
    "Example: A class with private variables that can only be accessed through public methods.\n",
    "\n",
    "\n",
    "\n",
    "\n",
    "5. What are dunder methods in Python?\n",
    "\n",
    "\n",
    "ans- Dunder methods (short for “double underscore” methods) are special methods in Python that have double underscores before and after their names — like __init__, __str__, __add__, etc.\n",
    "\n",
    "They are also known as: Magic methods ,Special methods\n",
    "\n",
    "\n",
    "\n",
    "6. Explain the concept of inheritance in OOP.\n",
    "\n",
    "\n",
    "ans- Inheritance is an important pillar of OOP(Object-Oriented Programming). The capability of a class to derive properties and characteristics from another class is called Inheritance. When we write a class, we inherit properties from other classes. So when we create a class, we do not need to write all the properties and functions again and again, as these can be inherited from another class that possesses it. Inheritance allows the user to reuse the code whenever possible and reduce its redundancy.\n",
    "\n",
    "\n",
    "\n",
    "7. What is polymorphism in OOP?\n",
    "\n",
    "\n",
    "ans- The word polymorphism means having many forms. In simple words, we can define polymorphism as the ability of a message to be displayed in more than one form. For example, A person at the same time can have different characteristics. Like a man at the same time is a father, a husband, an employee. So the same person posses different behavior in different situations. This is called polymorphism.\n",
    "\n",
    "\n",
    "8. How is encapsulation achieved in Python?\n",
    "\n",
    "\n",
    "ans-Encapsulation in Python is achieved by using classes, access modifiers (like __private), and getter/setter methods to restrict and control access to data, thereby ensuring data protection and proper management.\n",
    "\n",
    "\n",
    "9. What is a constructor in Python?\n",
    "\n",
    "\n",
    "ans- A constructor in Python is a special method used to initialize objects when they are created from a class. In Python, the constructor method is always named  __init__.\n",
    "purpose of constructure is-To automatically set up initial values (attributes) of an object when it's created.It is called automatically when a new object of the class is created.\n",
    "\n",
    "\n",
    "10.  What are class and static methods in Python?\n",
    "\n",
    "\n",
    "ans-  a. Class Method:\n",
    "A class method is a method that is bound to the class and not the instance of the class. It can access and modify class-level data. It takes cls (the class itself) as the first parameter.\n",
    "\n",
    "1. Declared using the @classmethod decorator.\n",
    "\n",
    "2. Commonly used to access or modify class variables or to create factory methods.\n",
    "\n",
    "b. Static Method:\n",
    "A static method is a method that does not depend on class or instance. It behaves like a regular function but is placed inside a class for logical grouping.\n",
    "\n",
    "1. Declared using the @staticmethod decorator.\n",
    "\n",
    "2. It does not take self or cls as a parameter.\n",
    "\n",
    "3. Used to perform independent tasks related to the class.\n",
    "\n",
    "\n",
    "\n",
    "11. What is method overloading in Python?\n",
    "\n",
    "\n",
    "ans- Method Overloading means defining multiple methods with the same name but different parameters (number or type). It allows the same method to perform different tasks based on arguments.python actually does not support true overloading.\n",
    "\n",
    "\n",
    "\n",
    "12. What is method overriding in OOP?\n",
    "\n",
    "\n",
    "ans- Method Overriding is a concept in Object-Oriented Programming (OOP) where a child class provides its own implementation of a method that is already defined in its parent class.\n",
    "\n",
    "\n",
    "13. What is a property decorator in Python?\n",
    "\n",
    "\n",
    "ans- The property decorator in Python is used to define a method that can be accessed like an attribute. It allows getter, setter, and deleter functionality for class attributes, while keeping control over how the attribute is accessed or modified.\n",
    "\n",
    "\n",
    "\n",
    "14. Why is polymorphism important in OOP?\n",
    "\n",
    "\n",
    "ans- Polymorphism is one of the most important concepts in OOP. It describes the ability of something to have or to be displayed in more than one form. The different forms arise because these entities can be assigned different meanings and used in various ways in multiple contexts.\n",
    "\n",
    "\n",
    "\n",
    "\n",
    "15. What is an abstract class in Python?\n",
    "\n",
    "\n",
    "ans- An abstract class is like a template for other classes. It defines methods that must be included in any class that inherits from it, but it doesn't provide the actual code for those methods. Think of it as a recipe without specific ingredients—it tells you what steps to follow, but the details depend on the subclass.\n",
    "\n",
    "\n",
    "\n",
    "16. What are the advantages of OOP?\n",
    "\n",
    "\n",
    "ans- This facilitates modularity, encapsulation, and code reuse, simplifying complex programs' management and maintenance. With OOP in Python, we can easily write flexible and scalable code and enhance its productivity and quality by using the concepts of inheritance, encapsulation, and polymorphism.\n",
    "\n",
    "\n",
    "\n",
    "17. What is the difference between a class variable and an instance variable?\n",
    "\n",
    "\n",
    "ans- Class variables and instance variables are both important concepts in object-oriented programming. Class variables are shared across all instances of a class, while instance variables are unique to each instance.\n",
    "\n",
    "\n",
    "\n",
    "18. What is multiple inheritance in Python?\n",
    "\n",
    "\n",
    "ans- Inheritance in Python is inheriting the attributes and methods of one class by another class. Multiple inheritances are when a child's class is derived from two or more parent classes. The word goes by its meaning.\n",
    "\n",
    "\n",
    "\n",
    "19. Explain the purpose of ‘’__str__’ and ‘__repr__’ ‘ methods in Python?\n",
    "\n",
    "\n",
    "\n",
    "ans- __str__ is used for informal string representations, such as printing objects for user consumption. __repr__ is used for formal string representations, including debugging, logging, and object inspection.\n",
    "\n",
    "\n",
    "\n",
    "20.  What is the significance of the ‘super()’ function in Python?\n",
    "\n",
    "\n",
    "\n",
    "ans- The super() function is used to give access to methods and properties of a parent or sibling class. The super() function returns an object that represents the parent class.\n",
    "\n",
    "\n",
    "\n",
    "21. What is the significance of the __del__ method in Python?\n",
    "\n",
    "\n",
    "ans- The __del__ method in Python is a powerful tool for managing resource cleanup when objects are destroyed. It allows you to define specific actions that should be taken when an object is garbage collected, such as closing files, releasing locks, or closing network connections\n",
    "\n",
    "\n",
    "\n",
    "22.  What is the difference between @staticmethod and @classmethod in Python?\n",
    "\n",
    "\n",
    "ans- A class method can access or modify the class state while a static method can't access or modify it. In general, static methods know nothing about the class state. They are utility-type methods that take some parameters and work upon those parameters. On the other hand class methods must have class as a parameter.\n",
    "\n",
    "\n",
    "\n",
    "23. How does polymorphism work in Python with inheritance?\n",
    "\n",
    "\n",
    "ans- Polymorphism in python defines methods in the child class that have the same name as the methods in the parent class. In inheritance, the child class inherits the methods from the parent class. Also, it is possible to modify a method in a child class that it has inherited from the parent class.\n",
    "\n",
    "\n",
    "\n",
    "24. What is method chaining in Python OOP?\n",
    "\n",
    "\n",
    "\n",
    "ans- Method chaining is a powerful technique that enhances code readability and often improves performance by reducing the overhead of temporary variable creation and repeated function calls. It involves calling multiple methods sequentially on the same object, where each method returns the object itself.\n",
    "\n",
    "\n",
    "\n",
    "25. What is the purpose of the __call__ method in Python?\n",
    "\n",
    "\n",
    "ans- The goal of . __call__() is to turn your instances into callable objects. In other words, its purpose is to create objects that you can call as you would call a regular function. Most Python classes don't implement this method.\n",
    "\n",
    "\n",
    "\n"
   ]
  },
  {
   "cell_type": "code",
   "execution_count": null,
   "id": "c9024416",
   "metadata": {},
   "outputs": [],
   "source": [
    "#1 Create a parent class Animal with a method speak() that prints a generic message. Create a child class Dog that overrides the speak() method to print \"Bark!\".\n",
    "\n",
    "class Animal:\n",
    "    def speak(self):\n",
    "        print(\"animal speak its own language\")\n",
    "\n",
    "class Dog(Animal):\n",
    "    def speak(self):\n",
    "        print(\"bark!!!\")"
   ]
  },
  {
   "cell_type": "code",
   "execution_count": 5,
   "id": "e1674406",
   "metadata": {},
   "outputs": [
    {
     "name": "stdout",
     "output_type": "stream",
     "text": [
      "animal speak its own language\n"
     ]
    }
   ],
   "source": [
    "anm =Animal()\n",
    "anm.speak()"
   ]
  },
  {
   "cell_type": "code",
   "execution_count": 7,
   "id": "50f3c35b",
   "metadata": {},
   "outputs": [
    {
     "name": "stdout",
     "output_type": "stream",
     "text": [
      "bark!!!\n"
     ]
    }
   ],
   "source": [
    "dg=Dog()\n",
    "dg.speak()"
   ]
  },
  {
   "cell_type": "code",
   "execution_count": 16,
   "id": "be2fd534",
   "metadata": {},
   "outputs": [],
   "source": [
    "#2. Write a program to create an abstract class Shape with a method area(). Derive classes Circle and Rectangle from it and implement the area() method in both.\n",
    "\n",
    "import abc \n",
    "\n",
    "class Shape:\n",
    "    \n",
    "    @abc.abstractmethod\n",
    "    def calculate_area(self):\n",
    "        pass\n",
    "class Rectangle(Shape):\n",
    "    def calculate_area(self,l,b):\n",
    "        self.length = l\n",
    "        self.breadth = b\n",
    "        return (f\"Area of rectange is\" ,{self.length * self.breadth})\n",
    "class Circles(Shape):\n",
    "    def calculate_area(self,r):\n",
    "        self.radius = r\n",
    "        return (f\"area of circle is\" ,{3.14* self.radius **2})\n",
    "\n",
    "\n"
   ]
  },
  {
   "cell_type": "code",
   "execution_count": 14,
   "id": "d8619848",
   "metadata": {},
   "outputs": [
    {
     "data": {
      "text/plain": [
       "('Area of rectange is', {15})"
      ]
     },
     "execution_count": 14,
     "metadata": {},
     "output_type": "execute_result"
    }
   ],
   "source": [
    "rec =Rectangle()\n",
    "rec.calculate_area(3,5)"
   ]
  },
  {
   "cell_type": "code",
   "execution_count": 17,
   "id": "2a885bf3",
   "metadata": {},
   "outputs": [
    {
     "data": {
      "text/plain": [
       "('area of circle is', {78.5})"
      ]
     },
     "execution_count": 17,
     "metadata": {},
     "output_type": "execute_result"
    }
   ],
   "source": [
    "cir=Circles()\n",
    "cir.calculate_area(5)"
   ]
  },
  {
   "cell_type": "code",
   "execution_count": 31,
   "id": "01d548b0",
   "metadata": {},
   "outputs": [],
   "source": [
    "#3. Implement a multi-level inheritance scenario where a class Vehicle has an attribute type. Derive a class Car and further derive a class ElectricCar that adds a battery attribute.\n",
    "\n",
    "class Vehicle:\n",
    "    def info(self,type):\n",
    "        self.type = type\n",
    "        print(f\"This is vehicle\",self.type)\n",
    "class Car(Vehicle):\n",
    "    def car_info(self, name):\n",
    "        print(\"This is car info\", name)\n",
    "class Electriccar(Vehicle):\n",
    "    def electriccar_info(self,type,name, battery):\n",
    "        self.battery = battery\n",
    "        print(f\"type of the car is\", type)\n",
    "        print(f\"name of car\" , name)\n",
    "        print(f\"electric car battery capacity is\", self.battery)"
   ]
  },
  {
   "cell_type": "code",
   "execution_count": 32,
   "id": "b94589f3",
   "metadata": {},
   "outputs": [
    {
     "name": "stdout",
     "output_type": "stream",
     "text": [
      "This is vehicle electric car\n"
     ]
    }
   ],
   "source": [
    "v=Vehicle()\n",
    "v.info(\"electric car\")"
   ]
  },
  {
   "cell_type": "code",
   "execution_count": 26,
   "id": "27cc247d",
   "metadata": {},
   "outputs": [
    {
     "name": "stdout",
     "output_type": "stream",
     "text": [
      "This is car info toyota\n"
     ]
    }
   ],
   "source": [
    "c=Car()\n",
    "c.car_info(\"toyota\")"
   ]
  },
  {
   "cell_type": "code",
   "execution_count": 33,
   "id": "cdaf7ab9",
   "metadata": {},
   "outputs": [
    {
     "name": "stdout",
     "output_type": "stream",
     "text": [
      "type of the car is electric car\n",
      "name of car toyota\n",
      "electric car battery capacity is 88\n"
     ]
    }
   ],
   "source": [
    "e=Electriccar()\n",
    "e.electriccar_info(\"electric car\",\"toyota\",88)"
   ]
  },
  {
   "cell_type": "code",
   "execution_count": 34,
   "id": "8b5e5c13",
   "metadata": {},
   "outputs": [],
   "source": [
    "#4  Demonstrate polymorphism by creating a base class Bird with a method fly(). Create two derived classes Sparrow and Penguin that override the fly() method.\n",
    "\n",
    "\n",
    "class Bird:\n",
    "    def fly(self):\n",
    "        print(\"birds can fly\")\n",
    "class Sparrow(Bird):\n",
    "    def fly(self):\n",
    "        print(\"sparrow can fly\")\n",
    "class Penguin(Bird):\n",
    "    def fly(self):\n",
    "        print(\"pengiun can not fly\")\n",
    "\n"
   ]
  },
  {
   "cell_type": "code",
   "execution_count": 35,
   "id": "dd66a6a7",
   "metadata": {},
   "outputs": [
    {
     "name": "stdout",
     "output_type": "stream",
     "text": [
      "birds can fly\n"
     ]
    }
   ],
   "source": [
    "bir=Bird()\n",
    "bir.fly()"
   ]
  },
  {
   "cell_type": "code",
   "execution_count": 36,
   "id": "57ddcfab",
   "metadata": {},
   "outputs": [
    {
     "name": "stdout",
     "output_type": "stream",
     "text": [
      "pengiun can not fly\n"
     ]
    }
   ],
   "source": [
    "pen=Penguin()\n",
    "pen.fly()"
   ]
  },
  {
   "cell_type": "code",
   "execution_count": 37,
   "id": "fc863ccc",
   "metadata": {},
   "outputs": [],
   "source": [
    "#5.Write a program to demonstrate encapsulation by creating a class BankAccount with private attributes balance and methods to deposit, withdraw, and check balance.\n",
    "\n",
    "class Bank_account:\n",
    "    def __init__(self, balance):\n",
    "        self.__balance= balance\n",
    "    def deposit(self,amount):\n",
    "        self.__balance= self.__balance + amount\n",
    "    def withdraw(self,amount):\n",
    "        if self.__balance >= amount:\n",
    "            self.__balance = self.__balance - amount\n",
    "            return True\n",
    "        else:\n",
    "            return False\n",
    "        \n",
    "    def checkbalance(self):\n",
    "        return self.__balance\n",
    "        \n",
    "    "
   ]
  },
  {
   "cell_type": "code",
   "execution_count": null,
   "id": "4665d7d5",
   "metadata": {},
   "outputs": [],
   "source": [
    "ba=Bank_account(1000)\n",
    "ba.deposit(5000)\n"
   ]
  },
  {
   "cell_type": "code",
   "execution_count": 41,
   "id": "36b0eaa5",
   "metadata": {},
   "outputs": [
    {
     "data": {
      "text/plain": [
       "6000"
      ]
     },
     "execution_count": 41,
     "metadata": {},
     "output_type": "execute_result"
    }
   ],
   "source": [
    "ba.checkbalance()"
   ]
  },
  {
   "cell_type": "code",
   "execution_count": 42,
   "id": "8492b5f6",
   "metadata": {},
   "outputs": [
    {
     "data": {
      "text/plain": [
       "True"
      ]
     },
     "execution_count": 42,
     "metadata": {},
     "output_type": "execute_result"
    }
   ],
   "source": [
    "ba.withdraw(598)"
   ]
  },
  {
   "cell_type": "code",
   "execution_count": 43,
   "id": "4a2434b0",
   "metadata": {},
   "outputs": [
    {
     "data": {
      "text/plain": [
       "5402"
      ]
     },
     "execution_count": 43,
     "metadata": {},
     "output_type": "execute_result"
    }
   ],
   "source": [
    "ba.checkbalance()"
   ]
  },
  {
   "cell_type": "code",
   "execution_count": 44,
   "id": "9817c689",
   "metadata": {},
   "outputs": [],
   "source": [
    "#6 Demonstrate runtime polymorphism using a method play() in a base class Instrument. Derive classes Guitar and Piano that implement their own version of play()\n",
    "\n",
    "class Instrument:\n",
    "    def play(self):\n",
    "        print(\"Instrument is playing\")\n",
    "\n",
    "class Guitar(Instrument):\n",
    "    def play(self):\n",
    "        print(\"Guitar is playing\")\n",
    "\n",
    "class Piano(Instrument):\n",
    "    def play(self):\n",
    "        print(\"Piano is playing\")\n",
    "\n",
    "\n"
   ]
  },
  {
   "cell_type": "code",
   "execution_count": 45,
   "id": "5684ed62",
   "metadata": {},
   "outputs": [],
   "source": [
    "inst1 = Guitar()\n",
    "inst2 = Piano()"
   ]
  },
  {
   "cell_type": "code",
   "execution_count": 46,
   "id": "8f996ce6",
   "metadata": {},
   "outputs": [
    {
     "name": "stdout",
     "output_type": "stream",
     "text": [
      "Guitar is playing\n",
      "Piano is playing\n"
     ]
    }
   ],
   "source": [
    "inst1.play()\n",
    "inst2.play()"
   ]
  },
  {
   "cell_type": "code",
   "execution_count": 55,
   "id": "123a63fb",
   "metadata": {},
   "outputs": [
    {
     "name": "stdout",
     "output_type": "stream",
     "text": [
      "Sum: 15\n",
      "Difference: 5\n"
     ]
    }
   ],
   "source": [
    "#7 Create a class MathOperations with a class method add_numbers() to add two numbers and a static method subtract_numbers() to subtract two numbers.\n",
    "\n",
    "class MathOperations:\n",
    "    @classmethod\n",
    "    def add_numbers(cls, a, b):\n",
    "        return a + b\n",
    "\n",
    "    @staticmethod\n",
    "    def subtract_numbers(a, b):\n",
    "        return a - b\n",
    "\n",
    "\n",
    "sum_result = MathOperations.add_numbers(10, 5)\n",
    "diff_result = MathOperations.subtract_numbers(10, 5)\n",
    "\n",
    "print(\"Sum:\", sum_result)\n",
    "print(\"Difference:\", diff_result)"
   ]
  },
  {
   "cell_type": "code",
   "execution_count": 57,
   "id": "c198db7f",
   "metadata": {},
   "outputs": [
    {
     "name": "stdout",
     "output_type": "stream",
     "text": [
      "Total persons created: 3\n"
     ]
    }
   ],
   "source": [
    "#8 Implement a class Person with a class method to count the total number of persons created.\n",
    "\n",
    "class Person:\n",
    "    count = 0  \n",
    "\n",
    "    def __init__(self, name):\n",
    "        self.name = name\n",
    "        Person.count += 1\n",
    "\n",
    "    @classmethod\n",
    "    def total_persons(cls):\n",
    "        return cls.count\n",
    "\n",
    "\n",
    "p1 = Person(\"Anam\")\n",
    "p2 = Person(\"riya\")\n",
    "p3 = Person(\"siya\")\n",
    "\n",
    "print(\"Total persons created:\", Person.total_persons())\n",
    "\n"
   ]
  },
  {
   "cell_type": "code",
   "execution_count": 58,
   "id": "1358b2ee",
   "metadata": {},
   "outputs": [
    {
     "name": "stdout",
     "output_type": "stream",
     "text": [
      "3/4\n",
      "7/2\n"
     ]
    }
   ],
   "source": [
    "#9 Write a class Fraction with attributes numerator and denominator. Override the str method to display the fraction as \"numerator/denominator\".\n",
    "\n",
    "class Fraction:\n",
    "    def __init__(self, numerator, denominator):\n",
    "        self.numerator = numerator\n",
    "        self.denominator = denominator\n",
    "\n",
    "    def __str__(self):\n",
    "        return f\"{self.numerator}/{self.denominator}\"\n",
    "\n",
    "\n",
    "f1 = Fraction(3, 4)\n",
    "f2 = Fraction(7, 2)\n",
    "\n",
    "print(f1)  \n",
    "print(f2)  "
   ]
  },
  {
   "cell_type": "code",
   "execution_count": 59,
   "id": "f6cb3ac8",
   "metadata": {},
   "outputs": [
    {
     "name": "stdout",
     "output_type": "stream",
     "text": [
      "Vector 1: (2, 3)\n",
      "Vector 2: (4, 5)\n",
      "Sum: (6, 8)\n"
     ]
    }
   ],
   "source": [
    "#10 Demonstrate operator overloading by creating a class Vector and overriding the add method to add two vectors.\n",
    "\n",
    "class Vector:\n",
    "    def __init__(self, x, y):\n",
    "        self.x = x\n",
    "        self.y = y\n",
    "\n",
    "    def __add__(self, other):\n",
    "        return Vector(self.x + other.x, self.y + other.y)\n",
    "\n",
    "    def __str__(self):\n",
    "        return f\"({self.x}, {self.y})\"\n",
    "\n",
    "\n",
    "v1 = Vector(2, 3)\n",
    "v2 = Vector(4, 5)\n",
    "v3 = v1 + v2 \n",
    "\n",
    "print(\"Vector 1:\", v1)\n",
    "print(\"Vector 2:\", v2)\n",
    "print(\"Sum:\", v3)"
   ]
  },
  {
   "cell_type": "code",
   "execution_count": 71,
   "id": "199ba17c",
   "metadata": {},
   "outputs": [
    {
     "name": "stdout",
     "output_type": "stream",
     "text": [
      "Hello, my name is anam and I am 22 years old.\n"
     ]
    }
   ],
   "source": [
    "#11 Create a class Person with attributes name and age. Add a method greet() that prints \"Hello, my name is {name} and I am {age} years old.\"\n",
    "\n",
    "class Person:\n",
    "    def __init__(self, name , age):\n",
    "        self.name = name\n",
    "        self.age = age\n",
    "\n",
    "    def greet(self):\n",
    "        print(f\"Hello, my name is {self.name} and I am {self.age} years old.\")\n",
    "\n",
    "per=Person(\"anam\", 22)\n",
    "per.greet()\n",
    "\n",
    "\n"
   ]
  },
  {
   "cell_type": "code",
   "execution_count": 72,
   "id": "c36845c2",
   "metadata": {},
   "outputs": [
    {
     "name": "stdout",
     "output_type": "stream",
     "text": [
      "anam's average grade is: 84.33333333333333\n"
     ]
    }
   ],
   "source": [
    "#12  Implement a class Student with attributes name and grades. Create a method average_grade() to compute the average of the grades.\n",
    "\n",
    "class Student:\n",
    "    def __init__(self, name, grades):\n",
    "        self.name = name\n",
    "        self.grades = grades  \n",
    "\n",
    "    def average_grade(self):\n",
    "        if len(self.grades) == 0:\n",
    "            return 0\n",
    "        return sum(self.grades) / len(self.grades)\n",
    "\n",
    "s1 = Student(\"anam\", [85, 90, 78])\n",
    "print(f\"{s1.name}'s average grade is:\", s1.average_grade())"
   ]
  },
  {
   "cell_type": "code",
   "execution_count": 73,
   "id": "209353f0",
   "metadata": {},
   "outputs": [
    {
     "name": "stdout",
     "output_type": "stream",
     "text": [
      "Area of rectangle: 15\n"
     ]
    }
   ],
   "source": [
    "#13 . Create a class Rectangle with methods set_dimensions() to set the dimensions and area() to calculate the area.\n",
    "\n",
    "class Rectangle:\n",
    "    def __init__(self):\n",
    "        self.length = 0\n",
    "        self.width = 0\n",
    "\n",
    "    def set_dimensions(self, length, width):\n",
    "        self.length = length\n",
    "        self.width = width\n",
    "\n",
    "    def area(self):\n",
    "        return self.length * self.width\n",
    "\n",
    "rect = Rectangle()\n",
    "rect.set_dimensions(5, 3)\n",
    "print(\"Area of rectangle:\", rect.area())\n"
   ]
  },
  {
   "cell_type": "code",
   "execution_count": 75,
   "id": "a1db4855",
   "metadata": {},
   "outputs": [
    {
     "name": "stdout",
     "output_type": "stream",
     "text": [
      "Anam's salary: rs4000\n",
      "Bhanu's salary (with bonus): rs12500\n"
     ]
    }
   ],
   "source": [
    "#14 Create a class Employee with a method calculate_salary() that computes the salary based on hours worked and hourly rate. Create a derived class Manager that adds a bonus to the salary\n",
    "\n",
    "class Employee:\n",
    "    def __init__(self, name, hours_worked, hourly_rate):\n",
    "        self.name = name\n",
    "        self.hours_worked = hours_worked\n",
    "        self.hourly_rate = hourly_rate\n",
    "\n",
    "    def calculate_salary(self):\n",
    "        return self.hours_worked * self.hourly_rate\n",
    "\n",
    "class Manager(Employee):\n",
    "    def __init__(self, name, hours_worked, hourly_rate, bonus):\n",
    "        super().__init__(name, hours_worked, hourly_rate)\n",
    "        self.bonus = bonus\n",
    "\n",
    "    def calculate_salary(self):\n",
    "        base_salary = super().calculate_salary()\n",
    "        return base_salary + self.bonus\n",
    "\n",
    "\n",
    "emp = Employee(\"Anam\", 40, 100)\n",
    "mgr = Manager(\"Bhanu\", 40, 300, 500)\n",
    "\n",
    "print(f\"{emp.name}'s salary: rs{emp.calculate_salary()}\")\n",
    "print(f\"{mgr.name}'s salary (with bonus): rs{mgr.calculate_salary()}\")\n"
   ]
  },
  {
   "cell_type": "code",
   "execution_count": 76,
   "id": "3a698989",
   "metadata": {},
   "outputs": [
    {
     "name": "stdout",
     "output_type": "stream",
     "text": [
      "Total price for Pen : 50\n"
     ]
    }
   ],
   "source": [
    "#15  Create a class Product with attributes name, price, and quantity. Implement a method total_price() that calculates the total price of the product.\n",
    "\n",
    "class Product:\n",
    "    def __init__(self, name, price, quantity):\n",
    "        self.name = name\n",
    "        self.price = price\n",
    "        self.quantity = quantity\n",
    "\n",
    "    def total_price(self):\n",
    "        return self.price * self.quantity\n",
    "\n",
    "p1 = Product(\"Pen\", 10, 5)\n",
    "print(\"Total price for\", p1.name, \":\", p1.total_price())"
   ]
  },
  {
   "cell_type": "code",
   "execution_count": 77,
   "id": "37b61795",
   "metadata": {},
   "outputs": [
    {
     "name": "stdout",
     "output_type": "stream",
     "text": [
      "Cow says Moo\n",
      "Sheep says Baa\n"
     ]
    }
   ],
   "source": [
    "#16 Create a class Animal with an abstract method sound(). Create two derived classes Cow and Sheep that implement the sound() method.\n",
    "\n",
    "from abc import ABC, abstractmethod\n",
    "\n",
    "class Animal(ABC):\n",
    "    @abstractmethod\n",
    "    def sound(self):\n",
    "        pass\n",
    "\n",
    "class Cow(Animal):\n",
    "    def sound(self):\n",
    "        print(\"Cow says Moo\")\n",
    "\n",
    "class Sheep(Animal):\n",
    "    def sound(self):\n",
    "        print(\"Sheep says Baa\")\n",
    "\n",
    "c = Cow()\n",
    "s = Sheep()\n",
    "\n",
    "c.sound()\n",
    "s.sound()\n"
   ]
  },
  {
   "cell_type": "code",
   "execution_count": 78,
   "id": "d4b999ed",
   "metadata": {},
   "outputs": [
    {
     "name": "stdout",
     "output_type": "stream",
     "text": [
      "'time is gold' by samay, published in 1949\n"
     ]
    }
   ],
   "source": [
    "#17  Create a class Book with attributes title, author, and year_published. Add a method get_book_info() that returns a formatted string with the book's details\n",
    "\n",
    "class Book:\n",
    "    def __init__(self, title, author, year_published):\n",
    "        self.title = title\n",
    "        self.author = author\n",
    "        self.year_published = year_published\n",
    "\n",
    "    def get_book_info(self):\n",
    "        return f\"'{self.title}' by {self.author}, published in {self.year_published}\"\n",
    "\n",
    "\n",
    "book1 = Book(\"time is gold\", \"samay\", 1949)\n",
    "print(book1.get_book_info())"
   ]
  },
  {
   "cell_type": "code",
   "execution_count": 79,
   "id": "d833325d",
   "metadata": {},
   "outputs": [
    {
     "name": "stdout",
     "output_type": "stream",
     "text": [
      "Address: 123 Luxury St\n",
      "Price: rs5000000\n",
      "Number of rooms: 15\n"
     ]
    }
   ],
   "source": [
    "#18 Create a class House with attributes address and price. Create a derived class Mansion that adds an attribute number_of_rooms.\n",
    "\n",
    "class House:\n",
    "    def __init__(self, address, price):\n",
    "        self.address = address\n",
    "        self.price = price\n",
    "\n",
    "class Mansion(House):\n",
    "    def __init__(self, address, price, number_of_rooms):\n",
    "        super().__init__(address, price)\n",
    "        self.number_of_rooms = number_of_rooms\n",
    "\n",
    "    def show_info(self):\n",
    "        print(f\"Address: {self.address}\")\n",
    "        print(f\"Price: rs{self.price}\")\n",
    "        print(f\"Number of rooms: {self.number_of_rooms}\")\n",
    "\n",
    "\n",
    "m = Mansion(\"123 Luxury St\", 5000000, 15)\n",
    "m.show_info()"
   ]
  },
  {
   "cell_type": "code",
   "execution_count": null,
   "id": "c58d0adf",
   "metadata": {},
   "outputs": [],
   "source": []
  }
 ],
 "metadata": {
  "kernelspec": {
   "display_name": "base",
   "language": "python",
   "name": "python3"
  },
  "language_info": {
   "codemirror_mode": {
    "name": "ipython",
    "version": 3
   },
   "file_extension": ".py",
   "mimetype": "text/x-python",
   "name": "python",
   "nbconvert_exporter": "python",
   "pygments_lexer": "ipython3",
   "version": "3.11.3"
  }
 },
 "nbformat": 4,
 "nbformat_minor": 5
}
